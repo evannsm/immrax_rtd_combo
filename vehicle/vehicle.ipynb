{
 "cells": [
  {
   "cell_type": "markdown",
   "metadata": {},
   "source": [
    "# Efficient Reachability on a Neural Network Controlled Vehicle Using GPU Parallelization\n",
    "<!-- In this example, we exploit the power of parallization on a GPU to efficiently compute accurate reachable sets of a nonlinear vehicle.\n",
    "\n",
    "This example is from .... -->\n",
    "In this example, we compute the reachable set of a vehicle model using the interaction-aware first-order inclusion function from [previous work](https://arxiv.org/pdf/2307.14938.pdf). Our goal is to implement the framework in an efficient and parallelizable manner.\n",
    "\n",
    "## Preliminaries\n",
    "\n",
    "If JAX was configured correctly with a GPU, then the `device = 'gpu'` flag will correctly dispatch the parallelized computations to the GPU. To run the code on the CPU, change the flag to `device = 'cpu'`. Additionally, to try the Tsit5 algorithm, change the `method` flag to `method = 'tsit5'`."
   ]
  },
  {
   "cell_type": "code",
   "execution_count": 1,
   "metadata": {},
   "outputs": [],
   "source": [
    "import jax\n",
    "import jax.numpy as jnp\n",
    "import immrax as irx\n",
    "\n",
    "device = 'cpu'\n",
    "method = 'euler'"
   ]
  },
  {
   "cell_type": "markdown",
   "metadata": {},
   "source": [
    "## The vehicle's dynamics\n",
    "Consider the nonlinear dynamics of a vehicle modeled as a kinematic bicycle\n",
    "\n",
    "$$\n",
    "\\begin{aligned}\n",
    "     \\dot{p}_x &= v \\cos(\\phi + \\beta(u_2)) \\\\ \n",
    "     \\dot{\\phi} &=\\frac{v}{\\ell_r}\\sin(\\beta(u_2)) \\\\\n",
    "     \\dot{p}_y &= v \\sin(\\phi + \\beta(u_2)) \\\\ \n",
    "     \\dot{v} &= u_1\n",
    "\\end{aligned}\n",
    "$$\n",
    "\n",
    "where $(p_x,p_y)\\in \\mathbb{R}^2$ is the displacement of the center of mass in the $x$-$y$ plane, $\\phi \\in [-\\pi,\\pi)$ is the heading angle in the plane, and $v\\in \\mathbb{R}_{\\geq 0}$ is the speed of the center of mass. Denote the state $x := [p_x,p_y,\\phi,v]$, and the open-loop vector field $\\dot{x} = f(x,u,w)$.\n",
    "\n",
    "We implement this in `immrax` as an `OpenLoopSystem` as follows."
   ]
  },
  {
   "cell_type": "code",
   "execution_count": 2,
   "metadata": {},
   "outputs": [],
   "source": [
    "class Vehicle (irx.OpenLoopSystem) :\n",
    "    def __init__(self) -> None:\n",
    "        self.evolution = 'continuous'\n",
    "        self.xlen = 4\n",
    "    def f(self, t:jnp.ndarray, x:jnp.ndarray, u:jnp.ndarray, w:jnp.ndarray) -> jnp.ndarray :\n",
    "        px, py, psi, v = x.ravel()\n",
    "        u1, u2 = u.ravel()\n",
    "        beta = jnp.arctan(jnp.tan(u2)/2)\n",
    "        return jnp.array([\n",
    "            v*jnp.cos(psi + beta),\n",
    "            v*jnp.sin(psi + beta),\n",
    "            v*jnp.sin(beta),\n",
    "            u1\n",
    "        ])\n",
    "\n",
    "olsys = Vehicle()"
   ]
  },
  {
   "cell_type": "markdown",
   "metadata": {},
   "source": [
    "## The neural network controller\n",
    "\n",
    "We consider a full state feedback continuous control policy $\\pi$ defined by a $4\\times100\\times100\\times2$ neural network. The neural network was trained using imitation learning to mimic an MPC controller trained to stabilize the vehicle to the origin while avoiding an obstacle centered at $(4,4)$. The closed-loop system is\n",
    "\n",
    "$$\n",
    "\\begin{align} \n",
    "    \\dot{x} = f(x,\\pi(x),w) = f^\\pi(x,w).\n",
    "\\end{align}\n",
    "$$\n",
    "\n",
    "The neural network is implemented in the `NeuralNetwork` class, which uses `equinox` to construct a fully-connected neural network controller. The `NNCSystem` class transforms the open-loop system `olsys` ($f$) into the closed loop system `clsys` ($f^\\pi$) obtained by continuous composition of the neural network with the system."
   ]
  },
  {
   "cell_type": "code",
   "execution_count": 3,
   "metadata": {},
   "outputs": [
    {
     "name": "stdout",
     "output_type": "stream",
     "text": [
      "Successfully loaded model from 100r100r2\\model.eqx\n"
     ]
    }
   ],
   "source": [
    "net = irx.NeuralNetwork('100r100r2')\n",
    "clsys = irx.NNCSystem(olsys, net)"
   ]
  },
  {
   "cell_type": "markdown",
   "metadata": {},
   "source": [
    "## The closed-loop embedding system\n",
    "<!-- Embedding System Induced by the Mixed-Cornered Jacobian-based Inclusion Function -->\n",
    "\n",
    "We use the mixed-cornered closed-loop inclusion function from our [previous work](https://arxiv.org/pdf/2307.14938.pdf), which uses a special case (choosing $\\mathring{x}$ as a corner of the hyperrectangle $[\\underline{x},\\overline{x}]$) of Proposition 7 Part 1 combined with the linear bounds from [CROWN](https://arxiv.org/pdf/1811.00866.pdf).\n",
    "We present here the closed-form for the lower corner, but a similar construction exists for any other corner. Using the notation $(A^+)_{ij} = \\max\\{A_{ij},0\\}$, $A^- = A - A^+$, for any matrix $A$,\n",
    "\n",
    "$$\n",
    "\\begin{gather} \n",
    "\\begin{gathered}\n",
    "    \\textsf{F}^\\pi(\\underline{x},\\overline{x},\\underline{w},\\overline{w}) = \\bigg[\\begin{smallmatrix}\n",
    "        \\underline{H}^+ - \\underline{\\textsf{M}}_x & \\underline{H}^- \\\\\n",
    "        \\overline{H}^- - \\overline{\\textsf{M}}_x & \\overline{H}^+ \\\\\n",
    "    \\end{smallmatrix}\\bigg] \\left[\\begin{smallmatrix} \\underline{x} \\\\ \\overline{x} \\end{smallmatrix}\\right] +\n",
    "    \\left[\\begin{smallmatrix}\n",
    "        -\\underline{\\textsf{M}}_w^- & \\underline{\\textsf{M}}_w^- \\\\\n",
    "        -\\overline{\\textsf{M}}_w^+ & \\overline{\\textsf{M}}_w^+        \n",
    "    \\end{smallmatrix}\\right] \\left[ \\begin{smallmatrix}\\underline{w} \\\\ \\overline{w}\\end{smallmatrix} \\right]\n",
    "     + \\left[\\begin{smallmatrix}-\\underline{\\textsf{M}}_u\\underline{u} + \\underline{\\textsf{M}}_u^+\\underline{d} + \\underline{\\textsf{M}}_u^-\\overline{d} + f(x,u,w) \\\\ -\\overline{\\textsf{M}}_u\\underline{u} + \\overline{\\textsf{M}}_u^+\\overline{d} + \\overline{\\textsf{M}}_u^-\\underline{d} + f(x,u,w)\\end{smallmatrix}\\right], \\\\\n",
    "    \\underline{H} = \\underline{\\textsf{M}}_x + \\underline{\\textsf{M}}_u^+ \\underline{C} + \\underline{\\textsf{M}}_u^- \\overline{C}, \\ \\overline{H} = \\overline{\\textsf{M}}_x + \\overline{\\textsf{M}}_u^+ \\overline{C} + \\overline{\\textsf{M}}_u^- \\underline{C}, \\\\\n",
    "\\end{gathered}\n",
    "\\end{gather}\n",
    "$$\n",
    "\n",
    "where $(\\underline{C},\\overline{C},\\underline{d},\\overline{d})$ is the output of CROWN on the interval $[\\underline{x},\\overline{x}]$, $\\left[\\begin{smallmatrix} \\underline{u} \\\\ \\overline{u}\\end{smallmatrix}\\right] := \\left[\\begin{smallmatrix}\n",
    "    \\underline{C}^+ & \\underline{C}^- \\\\\n",
    "    \\overline{C}^- & \\overline{C}^+\n",
    "\\end{smallmatrix}\\right]\\left[\\begin{smallmatrix} \\underline{x} \\\\ \\overline{x} \\end{smallmatrix}\\right] + \\left[\\begin{smallmatrix} \\underline{d} \\\\ \\overline{d} \\end{smallmatrix}\\right]$, \n",
    "$[\\textsf{M}_x\\ \\textsf{M}_u\\ \\textsf{M}_w] := [\\textsf{M}_\\mathcal{O}^{(\\underline{x},\\underline{u},\\underline{w})}(\\underline{x},\\overline{x},\\underline{u},\\overline{u},\\underline{w},\\overline{w})]$, where $\\textsf{M}$ is defined as Proposition 7 for the map $\\hat{f} : \\mathbb{R}^{n+p+q} \\to \\mathbb{R}^n$ such that $\\hat{f}((x,u,w)) := f(x,u,w)$, for some $(n+p+q)$-ordering $\\mathcal{O}$. \n",
    "<!-- \\cite{SJ-AH-SC:23c} prove that this is indeed a valid inclusion function for the closed-loop system~\\eqref{eq:vehicleclsys}. -->\n",
    "\n",
    "We use the `NNCEmbeddingSystem` class, which implements this inclusion function with the `'crown'` flag. The `'local'` flags specify to perform the neural network verification step and constructing the $\\textsf{M}$ matrices separately for each face of the hyperrectangle when computing the embedding system. We also choose the standard ordering $\\mathcal{O} = (1,2,\\dots,8)$ and the bottom and top corners."
   ]
  },
  {
   "cell_type": "code",
   "execution_count": 4,
   "metadata": {},
   "outputs": [],
   "source": [
    "clembsys = irx.NNCEmbeddingSystem(clsys, 'crown', 'local', 'local')\n",
    "orderings = irx.standard_ordering (1+4+2+1)\n",
    "corners = irx.two_corners (1+4+2+1)"
   ]
  },
  {
   "cell_type": "markdown",
   "metadata": {},
   "source": [
    "## Interval reachability using the embedding system"
   ]
  },
  {
   "cell_type": "markdown",
   "metadata": {},
   "source": [
    "We know that a single trajectory of the embedding system provides interval bounds for the reachable set of the original closed-loop system. Thus, we hope to calculate the reachable set of the vehicle model given an uncertain initial set.\n",
    "\n",
    "First, we create `Interval`s for the inital set and disturbance (we use zero disturbace for this example). Here we use `icentpert`, which creates an interval from a center and a $\\pm$ perturbation from the center."
   ]
  },
  {
   "cell_type": "code",
   "execution_count": 5,
   "metadata": {},
   "outputs": [],
   "source": [
    "# Returns [7.9,8.1] x [6.9,7.1] x [-2pi/3 - 0.01, -2pi/3 + 0.01] x [1.99, 2.01]\n",
    "x0 = irx.icentpert([8,7,-2*jnp.pi/3,2], [0.1,0.1,0.01,0.01])\n",
    "w = irx.icentpert([0.], 0.)"
   ]
  },
  {
   "cell_type": "markdown",
   "metadata": {},
   "source": [
    "Next, we create the following `compute_and_plot` function, which will compute the reachable set for a given number of partitions `N`, using the specified `solver` (`'euler'` or `'tsit5'`), on the specified `device` (`'cpu'` or `'gpu'`).\n",
    "\n",
    "To do this, we first we create a function `compute_traj` which computes the trajectory of the embedding system given an initial condition $x_0\\in\\mathcal{T}^{2n}_{\\geq 0}$, where the initial condition is equivalent to an interval, with the lower bound and upper bound concatenated to make a vector in $2n$-dimensions. This uses the `System.compute_trajectory` method, which internally calls `diffrax`.\n",
    "\n",
    "Next, we partition the initial set. To do this, we first transform `x0` to the upper triangle using `i2ut`, then pass that into the `get_partitions_ut` function from `immrax.utils` to partition `x0` into approximately `N` uniform regions (in particular, $\\operatorname{floor}(\\exp(\\log(N)/n))^n$ regions). This returns a `jax.Array` of shape `(N,2n)`, *i.e.*, `N` different initial conditions each on the upper triangle $\\mathcal{T}^{2n}_{\\geq 0}$. Each initial condition on the upper traingle corresponds directly with an interval subset of the initial set.\n",
    "\n",
    "To efficiently parallelize the computations of each partition, we use the `jax.vmap` transform to turn `compute_traj` into a vectorized map over different initial conditions, as well as pass the resulting function through a `jax.jit` on the specified `device`, or `backend`. Then, we JIT compile the resulting function `vmapped` using a dummy array.\n",
    "\n",
    "Finally, we use the `run_times` function from `immrax.utils` to average the runtime over $10$ runs. The rest of the function is dedicated to plotting the results onto the axis."
   ]
  },
  {
   "cell_type": "code",
   "execution_count": 74,
   "metadata": {},
   "outputs": [],
   "source": [
    "import matplotlib.pyplot as plt\n",
    "from matplotlib.patches import Circle\n",
    "from immrax.utils import get_partitions_ut, run_times, draw_iarrays, gen_ics\n",
    "from immutabledict import immutabledict\n",
    "\n",
    "def compute_and_plot (ax, N, solver, device) :\n",
    "    # Computing the Reachable Set of the Closed-Loop Embedding System\n",
    "    def w_map (t, x) :\n",
    "        return w\n",
    "    def compute_traj (x0, t_end) :\n",
    "        # The embedding system trajectory gives an overapproximation of the reachable set\n",
    "        return clembsys.compute_trajectory(0.,t_end,x0,(w_map,),0.125, \n",
    "                                           f_kwargs=immutabledict({'corners': corners,\n",
    "                                                                   'orderings': orderings}), \n",
    "                                           solver=solver)\n",
    "\n",
    "    t_end = 1.5\n",
    "\n",
    "    x0s = get_partitions_ut(irx.i2ut(x0), N)\n",
    "    print(f'Using {len(x0s)} partitions')\n",
    "\n",
    "    # vmap the compute_traj function over the initial partitions\n",
    "    vmapped = jax.jit(jax.vmap(compute_traj, (0, None)), backend=device)\n",
    "    vmapped(jnp.zeros_like(x0s), 0.125) # JIT Compilation Step\n",
    "\n",
    "    print('Finished setup and compilation.')\n",
    "\n",
    "    # Runs vmapped on x0s 10 times, reporting the runtimes\n",
    "    trajs, times = run_times(10, vmapped, x0s, t_end)\n",
    "    avg_runtime, std_runtime = jnp.mean(times), jnp.std(times)\n",
    "    print(f'partitions: ${len(x0s)}$, {solver}, {avg_runtime} ± {std_runtime}')\n",
    "    # diffrax has some timesteps that are inf, so we need to filter them out\n",
    "    # tfinite = jnp.where(jnp.isfinite(trajs.ts[0]))[0]\n",
    "    tfinite = [i for i in range(1)]\n",
    "\n",
    "    for t in tfinite :\n",
    "        if jnp.isfinite(trajs.ys[:,t,:]).all() :\n",
    "            ut_t = trajs.ys[:,t,:] # The reachable sets at time t\n",
    "            print(f\"ut_t: {ut_t}\")\n",
    "            boxes_t = [irx.ut2i(box) for box in ut_t] # Converted to intervals\n",
    "            print(f\"boxes_t: {boxes_t}\")\n",
    "            draw_iarrays(ax, boxes_t, zorder=2) # Draw the intervals on ax\n",
    "\n",
    "    # Monte Carlo Simulations\n",
    "    def mc_wmap (t, x) :\n",
    "        return jnp.array([0.])\n",
    "    for mc_x0 in gen_ics(x0, 100) :\n",
    "        mc_traj = clsys.compute_trajectory(0.,t_end,mc_x0,(mc_wmap,),0.125,solver=solver)\n",
    "        ax.plot(mc_traj.ys[:,0], mc_traj.ys[:,1], color='tab:red', zorder=0)\n",
    "\n",
    "    # Obstacle\n",
    "    ax.add_patch(Circle((4,4),3/1.25,lw=0,fc='salmon',zorder=0))\n",
    "\n",
    "    ax.set_xlim([-0.5,8.5]); ax.set_ylim([-0.5,8.5])\n",
    "    ax.set_xlabel('$p_x$',labelpad=3); ax.set_ylabel('$p_y$',labelpad=3, rotation='horizontal')\n",
    "    ax.text(0,8,f'partitions: ${len(x0s)}$, {solver}',fontsize=16,verticalalignment='top')\n",
    "    return trajs\n"
   ]
  },
  {
   "cell_type": "code",
   "execution_count": 75,
   "metadata": {},
   "outputs": [
    {
     "name": "stdout",
     "output_type": "stream",
     "text": [
      "Using 1 partitions\n",
      "Finished setup and compilation.\n",
      "partitions: $1$, euler, 0.003877663752064109 ± 0.0004335246921982616\n",
      "ut_t: [[ 7.9        6.9       -2.1043952  1.99       8.1        7.1\n",
      "  -2.0843952  2.01     ]]\n",
      "boxes_t: [[ 7.9        6.9       -2.1043952  1.99     ] <= x <= [ 8.1        7.1       -2.0843952  2.01     ]]\n"
     ]
    },
    {
     "data": {
      "image/png": "[encoded data removed]",
      "text/plain": [
       "<Figure size 1000x700 with 2 Axes>"
      ]
     },
     "metadata": {},
     "output_type": "display_data"
    }
   ],
   "source": [
    "plt.rcParams.update({\n",
    "    # \"text.usetex\": False,\n",
    "    # \"font.family\": \"Helvetica\",\n",
    "    # \"font.size\": 14\n",
    "})\n",
    "fig, axs = plt.subplots(1,2,dpi=100,figsize=[10,7])\n",
    "fig.subplots_adjust(left=0.05, right=0.975, bottom=0.075, top=0.975, wspace=0.15, hspace=0.25)\n",
    "axs = axs.reshape(-1)\n",
    "\n",
    "# for i, N in enumerate([\n",
    "#     (1, method, device), (2**4, method, device), (3**4, method, device),\n",
    "#     (4**4, method, device), (5**4, method, device), (6**4, method, device)]):\n",
    "#     compute_and_plot(axs[i], *N)\n",
    "\n",
    "for i, N in enumerate([\n",
    "    (1, method, device)]):\n",
    "    trajs = compute_and_plot(axs[i], *N)\n",
    "\n",
    "# fig.savefig('vehicle.pdf')\n",
    "plt.show()"
   ]
  },
  {
   "cell_type": "code",
   "execution_count": null,
   "metadata": {},
   "outputs": [],
   "source": []
  }
 ],
 "metadata": {
  "kernelspec": {
   "display_name": "immrax",
   "language": "python",
   "name": "python3"
  },
  "language_info": {
   "codemirror_mode": {
    "name": "ipython",
    "version": 3
   },
   "file_extension": ".py",
   "mimetype": "text/x-python",
   "name": "python",
   "nbconvert_exporter": "python",
   "pygments_lexer": "ipython3",
   "version": "3.11.8"
  }
 },
 "nbformat": 4,
 "nbformat_minor": 2
}
