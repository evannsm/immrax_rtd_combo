{
 "cells": [
  {
   "cell_type": "code",
   "execution_count": 1,
   "metadata": {},
   "outputs": [],
   "source": [
    "import jax\n",
    "import jax.numpy as jnp\n",
    "import immrax as irx\n",
    " \n",
    "# jax.config.update('jax_enable_x64', True)"
   ]
  },
  {
   "cell_type": "code",
   "execution_count": 2,
   "metadata": {},
   "outputs": [],
   "source": [
    "class Bicycle (irx.System) :\n",
    "    def __init__ (self) :\n",
    "        self.evolution = 'continuous'\n",
    "        self.xlen = 4\n",
    "    def f (self, t, x, u, w) :\n",
    "        px, py, psi, v = x.ravel()\n",
    "        u1, u2 = u.ravel()\n",
    "        beta = jnp.arctan(jnp.tan(u2)/2)\n",
    "        return jnp.array([\n",
    "            v*jnp.cos(psi + beta),\n",
    "            v*jnp.sin(psi + beta),\n",
    "            v*jnp.sin(beta),\n",
    "            u1\n",
    "        ])"
   ]
  },
  {
   "cell_type": "code",
   "execution_count": 3,
   "metadata": {},
   "outputs": [],
   "source": [
    "olsys = Bicycle()\n",
    "embsys = irx.natemb(olsys)"
   ]
  },
  {
   "cell_type": "code",
   "execution_count": 4,
   "metadata": {},
   "outputs": [
    {
     "name": "stdout",
     "output_type": "stream",
     "text": [
      "x0int = [[(10., 10.)]\n",
      " [(10., 10.)]\n",
      " [( 0.,  0.)]\n",
      " [( 0.,  0.)]]\n",
      "\n",
      "irx.i2ut(x0int)= [10. 10.  0.  0. 10. 10.  0.  0.]\n",
      "uint = [[(10., 10.)]\n",
      " [(10., 10.)]]\n",
      "\n",
      "olsys.f(0., x0, u, w): [ 0.  0.  0. 10.]\n",
      "\n",
      "embsys.E([0.], irx.i2ut(x0int), uint, w): [ 0.  0.  0. 10.  0.  0.  0. 10.]\n",
      "\n"
     ]
    }
   ],
   "source": [
    "x0 = jnp.array([10., 10., 0., 0.])\n",
    "x0int = irx.icentpert(x0, 0.0)\n",
    "# x0int = irx.interval(x0)\n",
    "# x0int = irx.interval(\n",
    "#     [-1.,-1.,0.,0.],\n",
    "#     [1.,1.,0.1,0.1]\n",
    "# )\n",
    "print(f\"x0int = {x0int}\\n\")\n",
    "print(f\"irx.i2ut(x0int)= {irx.i2ut(x0int)}\")\n",
    "\n",
    "\n",
    "u = jnp.array([10., 10.])\n",
    "uint = irx.icentpert(u, 0.0)\n",
    "print(f\"uint = {uint}\\n\")\n",
    "\n",
    "w = jnp.array([0., 0., 0., 0.])\n",
    "print(f\"olsys.f(0., x0, u, w): {olsys.f(0., x0, u, w)}\\n\")\n",
    "\n",
    "print(f\"embsys.E([0.], irx.i2ut(x0int), uint, w): {embsys.E([0.], irx.i2ut(x0int), uint, w)}\\n\")"
   ]
  },
  {
   "cell_type": "code",
   "execution_count": 10,
   "metadata": {},
   "outputs": [],
   "source": [
    "def u_map (t, x) :\n",
    "    return irx.icentpert([10., 10.], 0.0)\n",
    " \n",
    "def w_map (t, x) :\n",
    "    return irx.interval([0.])"
   ]
  },
  {
   "cell_type": "code",
   "execution_count": 11,
   "metadata": {},
   "outputs": [
    {
     "name": "stdout",
     "output_type": "stream",
     "text": [
      "[[(10., 10.)]\n",
      " [(10., 10.)]]\n"
     ]
    }
   ],
   "source": [
    "print(u_map(0., x0))"
   ]
  },
  {
   "cell_type": "code",
   "execution_count": 12,
   "metadata": {},
   "outputs": [],
   "source": [
    "t0 = 0.\n",
    "tf = 10.\n",
    "dt = 0.1"
   ]
  },
  {
   "cell_type": "code",
   "execution_count": 13,
   "metadata": {},
   "outputs": [],
   "source": [
    "traj = embsys.compute_trajectory(\n",
    "    t0, tf, irx.i2ut(x0int), (u_map,w_map), dt, solver='rk45'\n",
    ")\n",
    " "
   ]
  },
  {
   "cell_type": "code",
   "execution_count": 14,
   "metadata": {},
   "outputs": [
    {
     "name": "stdout",
     "output_type": "stream",
     "text": [
      "(101, 8)\n",
      "[10. 10.  0.  0. 10. 10.  0.  0.]\n",
      "[  7.2649727  15.820192  154.1903    100.          7.2649727  15.820192\n",
      " 154.1903    100.       ]\n"
     ]
    }
   ],
   "source": [
    "tfinite = jnp.where(jnp.isfinite(traj.ts))\n",
    "tt = traj.ts[tfinite]\n",
    "xx = traj.ys[tfinite]\n",
    " \n",
    "print(xx.shape)\n",
    " \n",
    "print(xx[0])\n",
    "print(xx[-1])"
   ]
  },
  {
   "cell_type": "code",
   "execution_count": null,
   "metadata": {},
   "outputs": [],
   "source": []
  }
 ],
 "metadata": {
  "kernelspec": {
   "display_name": "immrax",
   "language": "python",
   "name": "python3"
  },
  "language_info": {
   "codemirror_mode": {
    "name": "ipython",
    "version": 3
   },
   "file_extension": ".py",
   "mimetype": "text/x-python",
   "name": "python",
   "nbconvert_exporter": "python",
   "pygments_lexer": "ipython3",
   "version": "3.11.8"
  }
 },
 "nbformat": 4,
 "nbformat_minor": 2
}
